{
 "cells": [
  {
   "cell_type": "markdown",
   "metadata": {},
   "source": [
    "# Invoice Extractor using Gemini"
   ]
  },
  {
   "cell_type": "code",
   "execution_count": 1,
   "metadata": {},
   "outputs": [],
   "source": [
    "!pip install -q -U google-generativeai"
   ]
  },
  {
   "cell_type": "code",
   "execution_count": 5,
   "metadata": {},
   "outputs": [],
   "source": [
    "import pathlib\n",
    "import textwrap\n",
    "import google.generativeai as genai "
   ]
  },
  {
   "cell_type": "code",
   "execution_count": 6,
   "metadata": {},
   "outputs": [
    {
     "data": {
      "text/plain": [
       "True"
      ]
     },
     "execution_count": 6,
     "metadata": {},
     "output_type": "execute_result"
    }
   ],
   "source": [
    "from dotenv import load_dotenv\n",
    "load_dotenv()"
   ]
  },
  {
   "cell_type": "code",
   "execution_count": 8,
   "metadata": {},
   "outputs": [],
   "source": [
    "import os\n",
    "import streamlit as st \n",
    "from PIL import Image"
   ]
  },
  {
   "cell_type": "code",
   "execution_count": 9,
   "metadata": {},
   "outputs": [],
   "source": [
    "genai.configure(api_key= os.getenv(\"GOOGLE_API_KEY\"))"
   ]
  },
  {
   "cell_type": "code",
   "execution_count": 10,
   "metadata": {},
   "outputs": [],
   "source": [
    "# function to load gemini pro\n",
    "def get_gemini_response(input, image, prompt):\n",
    "    #loading the model \n",
    "    model = genai.GenerativeModel('gemini-vision-pro')\n",
    "    response = model.generate_content([input, image[0], prompt])\n",
    "    return response.text\n",
    "    "
   ]
  },
  {
   "cell_type": "code",
   "execution_count": 11,
   "metadata": {},
   "outputs": [],
   "source": [
    "# image upload setup\n",
    "def input_image_setup(uploaded_file):\n",
    "    if uploaded_file is not None:\n",
    "        # read the file\n",
    "        bytes_data = uploaded_file.getvalue()\n",
    "        \n",
    "        image_parts = [\n",
    "            {\n",
    "                'mime_type': uploaded_file.type, \n",
    "                'data': bytes_data\n",
    "            }\n",
    "        ]\n",
    "        return image_parts\n",
    "    else:\n",
    "        raise ERROR(\"No file uploaded\")"
   ]
  },
  {
   "cell_type": "code",
   "execution_count": 12,
   "metadata": {},
   "outputs": [
    {
     "name": "stderr",
     "output_type": "stream",
     "text": [
      "2024-06-01 12:04:19.873 \n",
      "  \u001b[33m\u001b[1mWarning:\u001b[0m to view this Streamlit app on a browser, run it with the following\n",
      "  command:\n",
      "\n",
      "    streamlit run c:\\Users\\Shiva\\Gemini\\env\\Lib\\site-packages\\ipykernel_launcher.py [ARGUMENTS]\n",
      "2024-06-01 12:04:19.874 Session state does not function when running a script without `streamlit run`\n"
     ]
    }
   ],
   "source": [
    "# initalize the streamlit applicatiion\n",
    "st.set_page_config(page_title = \"Invoice Extractor\")\n",
    "st.header(\"Gemini Application\")\n",
    "input = st.text_input(\"Input Prompt: \", key=\"input\" )\n",
    "uploaded_file = st.file_uploader(\"choose an image\", type={\"jpg\", \"jpeg\", \"png\"})\n",
    "image= \"\"\n",
    "if uploaded_file is not None:\n",
    "    image = image.open(uploaded_file)\n",
    "    st.image(image, captio= \"Uploaded file\", use_columnn_width = True)\n",
    "submit = st.button(\"Tell me about the invoice\")\n",
    "\n",
    "input_prompt = \"\"\"\n",
    "You are expert in understanding the invoices,\n",
    "you will receive an input images as invoices and you will understand what is in the image and answer the question asked by the user. \n",
    "\"\"\"\n",
    "\n",
    "if submit:\n",
    "    image_data = input_image_setup(uploaded_file)\n",
    "    response = get_gemini_response(input_prompt, image_data, input)\n",
    "    st.subheader(\"Response is\")\n",
    "    st.write(response)"
   ]
  },
  {
   "cell_type": "code",
   "execution_count": null,
   "metadata": {},
   "outputs": [],
   "source": []
  }
 ],
 "metadata": {
  "kernelspec": {
   "display_name": "Python 3",
   "language": "python",
   "name": "python3"
  },
  "language_info": {
   "codemirror_mode": {
    "name": "ipython",
    "version": 3
   },
   "file_extension": ".py",
   "mimetype": "text/x-python",
   "name": "python",
   "nbconvert_exporter": "python",
   "pygments_lexer": "ipython3",
   "version": "3.11.9"
  }
 },
 "nbformat": 4,
 "nbformat_minor": 2
}
